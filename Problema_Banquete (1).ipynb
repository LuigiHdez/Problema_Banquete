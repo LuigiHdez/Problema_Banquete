{
  "nbformat": 4,
  "nbformat_minor": 0,
  "metadata": {
    "colab": {
      "provenance": []
    },
    "kernelspec": {
      "name": "python3",
      "display_name": "Python 3"
    },
    "language_info": {
      "name": "python"
    }
  },
  "cells": [
    {
      "cell_type": "markdown",
      "source": [
        "# **`Problema de los Sombreros en el Banquete 🎩`**"
      ],
      "metadata": {
        "id": "079Z375NTU_v"
      }
    },
    {
      "cell_type": "markdown",
      "source": [
        "# **`Enunciado`**"
      ],
      "metadata": {
        "id": "z4QspIlJRdct"
      }
    },
    {
      "cell_type": "markdown",
      "source": [
        "Imagina que organizas un banquete con \\( n \\) invitados. Al llegar, cada invitado deja su sombrero en el guardarropa. Al finalizar el banquete, cada invitado recoge un sombrero **al azar**, que podría no ser el suyo. Queremos calcular la probabilidad de que **ningún invitado recupere su propio sombrero**. Esta situación se modela como el problema de las *derangements* (o permutaciones sin puntos fijos).\n",
        "\n"
      ],
      "metadata": {
        "id": "RCbn6NPRRoQL"
      }
    },
    {
      "cell_type": "markdown",
      "source": [
        "# **`Formula`**"
      ],
      "metadata": {
        "id": "9enw0O3-S695"
      }
    },
    {
      "cell_type": "markdown",
      "source": [
        "El número de desarreglos (o permutaciones sin puntos fijos) para ( n ) elementos, denotado como ( !n ), se calcula con la fórmula:"
      ],
      "metadata": {
        "id": "-l14vZgiXT2q"
      }
    },
    {
      "cell_type": "markdown",
      "source": [
        "![Formula_Desarreglos.png](data:image/png;base64,iVBORw0KGgoAAAANSUhEUgAAAK0AAAA0CAYAAAD4xrjIAAAABHNCSVQICAgIfAhkiAAAABl0RVh0U29mdHdhcmUAZ25vbWUtc2NyZWVuc2hvdO8Dvz4AAAAmdEVYdENyZWF0aW9uIFRpbWUAbWFyIDExIGp1biAyMDI0IDExOjM0OjI3rbrkywAACqlJREFUeJztnH9sE+cZxz+dO1+LuCjIB11thOq0paeixYpE3EoY0eGizaFdU6bOpWro1IZMaohGA0NJWJWkrMAqCEzUnUSyiRA2CFWpWQve2qVbxSFVcTTkqEVGWnGFsKeVi8hyHdW5eN0f+dEU8vPimHq8Hyl/2Ll7nsfy18897/M+d7csXrz4SwSCPOJbNzoAgWC6CNEK8g4hWkHeIUQryDuEaAV5hxCtIO8QohXcGCQZWbJ2qhCt4AYgE2hsp36lbOnsW8TmgiDfEJlWkFscPipqGtn3m2o8ojwQWMG1qoJgsUX1TIRcSvBpH45r/XkVUl3nkeZbKw1AiPamRl5WR+Mqg+6PzOwbN3qJ2YM0Peth9E8iGQlzfpkfWQsTs+hWiPZmRfZR+4KLrr1hEhmrRiRkp4pvbR37jzTi/1rCNom3txBbUUf16ExuUyl7CLT3XQRXuyx5FaK9SXE/UUlpPEw4Zd2Ga00d2zeto2zlw5TeMUaJkUnw5jGdlc8GvlYmmJfTKCucJHuSlvzeai1cQV5jc1PmX0j8kMZMCoPksWZqjoH6/GEC94x9TJ+mkdpURpkzTEcKyMRp21A1A68i096cFHrx3HWRmNWicjr0x4ilVDwl2VvsCdHehEj3unGmdfS+HDjLJNEv23EVubNmUoj2ZkQu4LYrBkY2bdrG+0eaASONLMtkK9eKmnYYm0rFjlr8in2CL2CKpBN0/qKZyL+ARX4qnwzgLUzQfRGkQhWPcZCafdEZ1ZMz4lY7dgau8y8vq6b+MTf2ic69EqNjR8cY7arxz0pftRbmeAjRDpNJ0PuJTPUqFQmTxKEantkdvT4bDQv6VgnJZmeuorBwQRFuVcWz1MfyB1UckgfpR51EXovj+q5Coken7HmZ2C93Er2nlmM1KnO5gaIdMEhLBRRc87ZxOkTDaetmx5OtXGAn/amRtc8ryoMRTGK/bSDUYwAS7rWN1I410JEZ+jNNzCsGfRcSxHq6CB8K0bxxLavX1BB6L4l7dRDfHEie6OT83SqmFiZ6BdwPFGN+1EsuysnxMJNJLt6uoNyeA2c2J4qcJnnBWntrLIRoR2Mm6NjWgtYH2FyUNzQScE7TREqjbdMzbP3ATfkqByDjWaIQjybA5sbvk4hqMsHHsrcwmTb/jBHXnahLZlZlyqtq2de6n8YfusHuZf3+/ezfXoE6urySVNRFSeKx7FXQojy4lgthmn7lpX1HAJfDT/2LQeIbOqe5a9RH1+4QymNFSBKo83rRegcvjqZh4FzpIXZEm5Xwp4TZS9fpNPWlKpyOWTZjvNtCzbsTHyOVeFFTXYQ+sezmOmwOh6NpwiOKqzl8ZAffz5zird7+7HnOFRbi//x8NxeUh/AvmcechaWoVzUif9eZlm6/SPHRhykymRRauItEGviyn96Tb/HO6SiJf1v5MNkiQyoBvp/6SL/9PokvZsuPg0c3rmfOH1/h6LnPs2Z10vJAUlzML3TgXKRkrWWRS6zFb6DtbabjrAlIeJ5rpHppPn76CUiFCYUVgs+Vztr3Kq/YQHnmIHv+lN0KflLRmrrOQAaMS/qNW+3OAMvxX4nR9lKImAFIKhUv1uErnKUgbwgm8UMNtGbKqMjibtUIso9130uyZ1uYpOWBnLGZfCGmX2IAE6Nfz67nXDGD+M1zHWzdpw22vRaV07QlcN18aH5jEH2tmbYzszGaqBFqaiOL668RJl+I9evoZpp0XxoA6f4K6qqWo85PcnCXRtETAVxIuItMTr60deiSmgPkUirr1+Erkundv4fzSyvwFUJBkQv98GYajifHjH+6JF9vYkdJJ9sDDhyBepp6eqk5lr32jWD6TC7ajI7Rr2NcBnAQeKqI2I5OpN/vonGzQU31ZqL9DipaTxB8pJijZydumqtP1LGuVJl414U0Rm8nOw/FxrXlXvM4yp+bCD9+gsYXqwn9rIbNvSZqzTEO/DiA++22wRX/1+K3Qh+RV5rwLtlH+SIZ38ZGKmJVdHxs1Z5gpkwu2qsGev8AZp8JNidm9CRaoZfg3ARHfx4i2g9IC3EtAOPM5HVj/PWdNLw+88AL9G7C0SLKt0CsYwdtvYOLJtedCgwYDAzXUaPjt0q/xs5tHaivVqDaFVzfkeHjWbjuzTJnzpy50SGMS0lJyZSPnUKmTZJMpjB1IJMgcjyBY+163J/FCA2XAnf58N6RQtMSFkOePrETYbivGo8jRbRnyK9Uis9jJ/5G91c7TqPjnwHm2VNEL5ahv7GJPafzT7AwPWF8k5nC5oJBeEvDqNcS3hIVPjw5MjThCfhxXtToOufGv7oA7cT4l/VslQcAjlLP4I/n3FBkD/pZ7ojT/pcUnkAA850I8cy18VvA5qK8qZ5irZ6aw4m87KL8PzG5aO8qZ3tzOeaRrTRHkiAV411iJ350aJjE5sZX6iSldXH+wSBBpZOuCcxlqzwACW/x6B+PRPGyUuae7eS9qwEqH4BXI2PEP21kfJt2se5qKzV7xxigEeScyUU7R8G5qIi0Yyg3zi3CJcXRtCEBZFJ0fxDHX1JBo10j9OsclQg2J0WuNNE3Tg0JyST+QZRE8XJe2BAn8mrLYIlwbfzTQkJ9eje1956kYUOEGfUMJBkZA8NqmpY9VGwsZ36fgbzgEuFXOohdmUlA+Yt4wswEOALbaX16gJbqnWgWdrClORLmFROQCWxvZ/mpZ2iIWMvV6vMHqP3PVqrak7jXH6A+3UxVe+7WECPYXPifDeI800pHj4F77T5aqxTerP0Jodno946BmPIaB3lpNbufs3Ow3ppgua+Slzf5hrZIDSINaywLFhx4ShYy8OngajKVMlBLPVh/3MUMcK0kGPRRNH/wylXgdOEodOFWcheCmPIaA+nuINu3etAaawhfsHD+ogB1L5dh7FmL6fBR8ZQf7/06bRtD1h5QYZuPIkN6+Nz/mjBPQbGBkeUt0km50EHVwx0jL3V9ALCjW+6DTx8h2mtx+Kl7uZzk3g1Dvd9pUKjiX7OOyooA6kAnVT0mrpVDjwFace2DKRyUrn0S77yxDJmc7+ogcu6b36fQ+w3MjISu5y5WIdrRzPFQ3dKI3+yic/HjVC4e45hvS19NRdkkpNtlZEXBvchN0T0u5KEB6MTxCFETiISxrz+ArO28Jsv2ET0cIjqVuDKXGDDAPezYLsGAgZ7LLGtzEdhUR9kSF0pvC1W7h2YydJ3PrpKbO3uHEKIdwUWgaTeVxTJQTmXxDExl4nS9NTRcPfwYoF0ugqsNOk8M9yAmybR/6yAyMsfRR/TMJfx3KkASt0vmfLQ7p+03xyOVeM/tpEV/mcOPeinaqxHLDE7RXfpMwrA22mEJIdoRkkS2PExkFiybl9O4VjiJHR7dwZ5GpgXif2ghurmS2vU68gKN0O5cdg4k5l+NEf6rHX+rih4NER/O8rqO0S+hZ/mO24kQLS/B1Lm/mmO/86NVraGld+g9yU/jNidtWzpm1seeBqLlJZgiEqWPBHB+0sXJf6gEVquDtb3ZRXMOBQtCtIKpYnOz3KuQ6DqJ8YN1LJcuYQKOVXUcaN9F8O7chSJEK5gamSTd3QkkbzXV7lOEjg+2C25TXCx0u1AKcncPnahpBXmHyLSCvEOIVpB3CNEK8g4hWkHeIUQryDv+BzcHCyr4qPHKAAAAAElFTkSuQmCC)"
      ],
      "metadata": {
        "id": "OugoxP4JXijc"
      }
    },
    {
      "cell_type": "markdown",
      "source": [
        "## **`Desglose De La Fórmula`**"
      ],
      "metadata": {
        "id": "e9cOg5rdX7xa"
      }
    },
    {
      "cell_type": "markdown",
      "source": [
        "- **\\( n! \\)**: Factorial de \\( n \\), que cuenta todas las posibles permutaciones de \\( n \\) elementos.\n",
        "- ![Suma_Desarreglos.png](data:image/png;base64,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): Serie alternante que ajusta el conteo para que ningún elemento quede en su lugar original. Esta serie se conoce como la **suma de desarreglos**."
      ],
      "metadata": {
        "id": "GzM3RzlaXz6s"
      }
    },
    {
      "cell_type": "markdown",
      "source": [
        "## **`Ejemplo Para n = 3`**"
      ],
      "metadata": {
        "id": "auHZCljaaF1h"
      }
    },
    {
      "cell_type": "markdown",
      "source": [
        "![Resultado00.png](data:image/png;base64,iVBORw0KGgoAAAANSUhEUgAAAT0AAABBCAYAAACjDHOTAAAABHNCSVQICAgIfAhkiAAAABl0RVh0U29mdHdhcmUAZ25vbWUtc2NyZWVuc2hvdO8Dvz4AAAAmdEVYdENyZWF0aW9uIFRpbWUAbWFyIDExIGp1biAyMDI0IDExOjQ0OjQ1p87+cQAAFoFJREFUeJztnX1YlFXawH/jwAwfDoswSDIr8aGIl6KlAZps5Xeg9tLbKlmLeCW66/dq2LLWq6JJVq5CRZZyqYWukruZ2aq9LbVruCmwKn7k+K4CbY7iOggxGM7A6PsHOUkMM+N8os/z+4freZ4z930fzpl77vOc+5wjiYmJuYmIiIiIQOjmaQNERERE3Ino9ERERASF6PREREQEhej0REREBIXo9ERERASF6PREREQEhej0REREBIXo9ERERASF6PREREQEhej0REREBIWXpw3wOH4qVAotmst6T1vSjhEjRpCYmIi3tzcHDx7kq6++8rRJbkehUHDt2jVu3LjhaVPcypgxYxg4cCBxcXG89dZbHDt2zNMmuQ2JRMLUqVPx9/cnLi6O/Px8zp8/366MPFiFslmD5nv7dAg70pPHkp67nLTenjakPVKplNmzZ5OXl8fatWtZtGgREonE02a5jejoaLKysti7dy9+fn6eNset+Pv7k5SURF5eHu+99x4vvPCCp01yK3379iUjI4NNmzahVquZMWNGx0LhqSx/LZNYuX06BOz0FCQtzOYX/1dAQUXXivJiYmIwGo3cuHHD9DcqKsrTZrmN8+fPs3btWm7eFN5eGAqFguHDhyOXy6moqCA2NpawsDBPm+U2qqurWbVqFQBhYWGcPXu2Qxn9sULWlSeQ/XwSCjt0CNbpBU9YTvaAUta9W0nXcnkQFBRES0uL6bqlpYWgoCAPWiTiLmpraxk/fjx6vZ7evXuj1Wq5dOmSp81yGy0tLVRWVjJv3jz8/f0pLi42U0qPetsrlPTJZvl/qe5YhzCdXvBonp8TRembRaiN1os/9dRT+Pj4ON0MuVzO5MmTO9yXSqUd7nlqeNurVy8ee+wxl8geOXIkKpXlTuvpYX1iYqLLouzJkycjl3c+RsvMzGTlypUei3hlMhm//OUvXSI7KiqK4cOHm32m0+nYuHEjzc3NTJw40bwAYzUf5H2OatYikoPvTLcAnZ6CpDmLSFBvYpMNw9qJEycilUq5fv260y3R6/V069aNtLS0dvfr6+vx9vY2XctkMurr652u3xq+vr4sWbKEiooKl8gvKysjOzubgIAAl8h3lOjoaJKTk6mqqnKJ/FOnTrFs2TKzjv2ZZ55h7969VFRUtOsL7iQrK4vTp0+7RHZVVRUpKSkMGDCg3f3Q0FAGDx6MwWDg888/Z/78+Z3K0J/YxPunH2Du/Dsb5grP6UWkkfk4/HXH59RZKxoRwRNPPMEHH3zgkMqgoCBSUlLYvn17h2fFxcWMHTuWiIgI070zZ87g7+9Pt27dkEqleHt7d5jBcgfZ2dns2rWLpqYmu2XIZDL69evHihUrmDJlSrtn165dY/v27WRnZ3f6eU9Fel5eXqxevZp169Y5JMdS2585c4ZLly7x5JNPtrv/8MMPc+HCBQ4dOsTEiRPx9/d3yAZ7mDRpEjqdjjNnztgto1u3bqhUKmbMmMHKlSs7PH/ttdfIyclp59RTUlKYOXMmAH5+fmg0GgsadOzfuhvD2LmkRd+BXbYXvReQE5+eSuy5YoqOWY/ynn32WYcd3tixY5k9ezbjxo2jd2/z08Q7d+5k9uzZpuvW1lby8vKYM2cOixYtIicnx+1pG6GhofTr18/hVJmcnBxGjhxJcnIyXl4dM6QOHz5MVFQU0dE/9trw8HBmz56Nt7c3v/71r4mLi3PIBnsYM2YMx48fp7Gx0W4ZtrT9jh07mD59uumLHxoaytq1a8nPz6eiooKFCxfS0NBgtw32IJFImDZtGjt27HBIzqxZs0hLSyM5OZnu3bt3eK7T6SgvLyc1NdV0r7i4mK+//pqMjAwSExMt/iAC8PVH7D4bSWp6ErZO5koEtV18cCpv7s5GvvEpZm2z9AvSljrw6aefMnbsWJqbmx1WnZ6ezsyZM3nkkUc6PPP19aWkpITRo0c7RZczmDNnDl5eXrzxxhtOkXfo0CEKCgr44x//2OHZvHnzuHHjBm+//bZTdDmDzZs3s2nTJqfkR1pqe4CtW7dSUFBAeXm5w7qcQUJCAnPnziUjI8Mp8vLz8zEajSxevLjDs2HDhjFz5kzzqSk2Evzfb7L7t7Duyfl8ZG34hsAiveBRKcRLT1DymWWHBzBo0CAuXLjgFifU3NxMTU0NDz74oMt12UpCQgInTpxwi66TJ08ybNgwt+iyBV9fX+Li4jh16pRb9J04cYKHH37YLbpsITExkZMnT7pF18mTJ4mLi3MoH7Pu76WopfGkjLNtRkNATi+YMeMGIT/3JaWXrZfu06cPtbW1rjfrB2prawkPD3ebPmv07dvXbfW/dOlSl6p7REQEer0enU7nFn21tbX8/Oc/d4suW4iOjnZb21+7do3r16/Tq1cv+4XUlfLlORg0KgVbEliE4/SCx5AUJ6f62Amsx3ltSaLO7vSWXso3NjZ2mVw8qVSKn5+f2+qv0+kICAgwm6rjCRQKhUPv8sxxt7Q9QEBAwF3W9zWUH6lGHvcLkmwI9gSz9lY+ZDCDveooKVfbVF4ikWA0dkzimzRpEg899JDFz546dYpdu3aZldkZRqMRmUxmk23uwlz9FyxYQHCw5Z718ccf889//rPD/c7q39raikQiwdvb26xOd9NZ28fFxVnNW2tqauL11183K7MzulrbSyQSWltbO9zvyn2/+qgazXOjiR8ip/gzy5OUAnF6cgY9OAhFaxVqtW3rL+rr69ulkdxi79697N271y4rLDW8QqHg4sWLdsl1NkajEZ1OZzZVwpGJjc7qr1AoaG1tdUkupD3U19ejUHTM/Dp58qTd77qstb0jaUHOprP6O9L3LeGM+uv/peZiayqx8YOQf1ZucZWVQIa33YmNVUFdFVU2/m//85//oFQqXWvWbQQFBfHtt9+6TZ813Fn/rlj37t27uy36Cg4O7lL1v3z5stVo3ll4e3sTEBDAhQsXHBPUVEXVZVD1i8VarxWG05P3JyoM9BerqbJxoW1FRQUxMTEOv2caPnw4eXl5TJkyBalUytatW1m2bFm7MlKplP79+1NZWemQLmdSVlbWIVveHlasWME777yDVColPT2dN954g4SEhHZlBg4cyPHjxx3W5SwaGhqorq6mf//+Dsmxpe2hrf5dafuoiooKp7R9eno6+fn5PPDAAwwdOpR33nmHZ555pl2Z2NhYNBoNdXU25JpYQq9G/a0eVFFEWknYE8bwNjCSSCU0HdZgaxDd0NDA2bNnGTRokEMd8quvvrKa6zVw4ECOHj3K5cs2TCu7ib/97W/MmDGDzZs3OyRnxYoVVsskJiZSUFDgkB5n88UXX5CQkODQD5Etbe/j40N4eDhffPGF3XqczZEjR/jd736Hr6+vQylbRUVFFBUVWSyTkJDAhx9+aLeOHzGg1Ta1fdeDodTCmyLzkd6guez44q9s/FXkj/fCk1n82pu8+Yc32bh9BxtfSLbqUR3Gkk6/JLJ3H+ST11KxFojLI1UopdBYp72jHVXefffdDutiXcHTTz9tdpmSJykrK8Pb29vlW1pFRETg4+Pjtpw4W9m2bRuPP/642VUkzmTixIl8+umnXeZ9JrRNxuzZs6fzxf5OQiqVMmHCBHbv3u0EaXq0dVdAqiQq3LJjMuv05EoVIYHBhIUr25Z2SCNJ/5/nGaQuIOv5+cxaXY5yynJyZ8Q6wdhOsKpTiaqXApVKRYC1EWgPJUpAW3/ljkw4cuQIzc3NDB061J4a2MSQIUO4evUqhw8fdpkOe8nNzWX27Nl06+aatyASiYTf/OY3LF++3CXyHaGxsZH33nuP6dOnu0xHjx49SEpKYtOmTS7TYS9btmxh5MiR9OjRw2U6MjIy2LBhg9PSgzRaHaBEYSUKMtub9VotjUbQXfkhMvJSEdU7mMGTUoiVAhc1aJETGR1p83q3O8aaTqMWbRPoG7VorWQ5dA8OQI6exro7nyFavXo1Y8aMcclLbS8vL8aOHcv69eudLhtAPiyTuaPsb6Fz587x5z//mfHjxzvRqh8ZP348e/bs4d///rcLpKtInZNGpAOvZD/++GNaW1vNzuI7g6effpo1a9ag17tgR0e/0cydGW/39/P7779n5cqVTJ061alm3eL+++/n5s2bfPbZZ06TadBq0SFHqey4zvd2zMfu2is0osfQoG271pfy1ktLKTWUUWkEeWQkYehRn1a7bgNOazpbtegawFCvxWBFVEgPJdCEzo499VtbW3n11Vfv/IMelg2AIgqVQgYOtJIrI9ADBw64TDZSGcowFQFegAOpf1u3bnWWRR3YsGGDy2QjU2Jlq0Kr1NbWumw99DfffMOWLVucK/R7PQYgoEcIWNhDybzTa9Ci1Rsw1P3oTuoq9lMCyMPjSZ81Bp9jhazfWe1co3+CRZ3GK1xp1NN4yzF3ihy5TAZcd+S7f3cijGmqzhFGboLILYx6rgMymQI5nX/dzX8tjFp0DVp0P9m3UjEik8XJsah6XKBsTzkXOoucpCqS589ldJiVIWGrAfVfXqHwUOdLXjrX2YS23oBWa31yQvZDjK/vmGQuIiJyr6BvC9J87EpZadWhbWhEX9fenegOFZJzCAhLY+Oud9kUmUVGbikdXJZRw/68pey3z3SbdWrr2pyzNeQyHzA2YjBYD/W6Ur6UOVy9E4uQ69/V6w7Crr+1uuv1YDCCj9Sy1+sk0tOg0VxEb/InCiKHxSJXl6NuAC6XUVYjZ+4TaaS8XUqxS/Y4tKZTj7a2Co2TU9u60vZOd0RgEnNfSCXy9hYNjSXWazlr2+3adJGSvHXs7ySP6W6tf+zk5WTG37Z0SionKlZFQm4Yjbe90zOcKCJnm/nDoO7WuiNVkfzbRYwOve2eTEVspJ7VryXfdtOAek/nI6u7tv4mfmhVL3ucHjo+emGp6Uo+YTk7Xh5N04fzmbCqFD1y5NJ2atrjhOGtLTqrN2exxrKGtvKG6yCVIZNaGunf5TSUUrC0tN0teXIuy31fYemH7tkiyZOod+WQdfs6d2kkmauepDxnHZX3aJObMGrY/4es9iOrwDRyf6slZ0XJvdrjO3LL2VmZDTfv9CJSyc1JRb/zRXL2a9BXV1Otq6byYNsvpDwiifjeoDnwESXmojwnDG+t6pQOJv0Pi/hFTSHP55kZYt+G4da7PFcnU4uIiHgMuUyGTArX7XJ6fkrCwqMwBP8QqX1dyNJX5Mz91ZtsfNqArIcC3a6l5GwosehsHMKaTi8ZqvujiDIosRxP6tEbDECAKVIUERG5B5HL8QEajQaL0a15p/d1IdNHFt52Q0/1/nVkOWNmwmas6NSXs+bJR2wa3urqGwElcvt3pLYJpVLJ4sWL+e6771AqlRQXF5uOT+zduzeFhYXk5+ezb98+1xrSBRk3bhxZWVnMmjWLmpoaT5vjdEJDQ1mwYAGhoaEEBwdTXFzMzp07gbZTwYqKijh9+jS5ubkettQ1DBgwgKlTp+Ln50fPnj3ZsmULJSUlgBv7vlyODGistzy5KYhMLq1Whx4FykDHEnWtUVBQQEFBAQcPHiQkJIQdO3bw7LPPcvnyZUJDQ+nZs2e7U79cjf7MPvZJ3fc+z9/fn4EDB5KZmcmaNWvaHVsZGRlJSEgIvXr1co/TM2op//RLLrjhhZZEImHp0qWsWrUKrVbLY489xvr162ltbeVPf/oTAP369aOlpcX1xtyiuZJ9n+nc8j5PJpORl5fHvHnzOHv2LJMnT+b1119n8uTJnD9/3m19XxaoQIYeXZ1lpyeM9M0GLU2AIsR1+8M98MADRERE8OWXXwJw5coVampqmDRpEgBabVtDOLyFzp1QU0qpm47LjYiI4MUXX2TkyJE89NBDHbbkunr1KuDO+uuo/Hu51bONnUF4eDgjRoxg1KhRQNsONefOnTMt4bpx4wYNDQ2m/4Fb0KspPWTLwQiOExgYiFKp5PHHHwfa9iOUSCQMHDgQcF/fVwYrkdOE1ko2iSCcnl6j4YoRFIFKl81ljBgxAp1Ox82bP56oWV9fT3x8PPBjg7u147uRmpoali5dyp49e8w+94jTdxNarZbjx4+3a9v6+npCQkJM13V1dfdk3aHNyd2+DVlMTAw3b9407TLtnr4vRxmiAOMVtFbCe0EMb7lUTbUORvVUIcPyVtL20rNnTwyG9quAW1paTLtU6HQ6DAaD6csvNK5evcrNmzfdfnC1O7h27RqZmZmma6lUSnR0dLtk37q6unv2Bw/g6NGjdOvWjejoaCZMmMCrr75KVVUV4L6+rwxWwvdq1FY2YRaG02utouoiJN8fRZQUKl1w9sytE+p/yu3nTNzrHd8SWq2WhoaGLnHwj6uZNGkSvr6+5Ofnm+7dy5HeLVJSUhgyZAj19fUd9kd0ed+XRtL/fjl8W02VleWmghjeYryI+l910CuSSBfN4DY1NXU4/EUikXDt2jXTtRA6/i1++r+4evWqIBx+SEgIs2bNYtGiRaZIB4Txg/fJJ5+wcuVKtm/fzubNm9sdC+Dyvu8XS2QvqKtWc9HK76ownB56Ko+dQe8VSWwf17zVa2ho6LDnnkwm47vvvjNdnz9/3unnqXZVfur0mpubOX36tIescQ8ymYyXX36ZZcuWceTIEXx8fEzPNBqNWw+Pdyc+Pj4MGDDA1Ob/+Mc/kMlkTJs2zVTG1X1f3icKlVzPmaNlVl9fCcTpge5YGWpUDH4wzCXyy8vL+dnPftZu1jIoKIiysjLT9YoVK9pNdNzLmDvysCvukOxMlixZwsaNG025mS+++KLp2a5du7rclvjO4rnnnmPbtm2myO7GjRsdyri67ysHDCIMNZVHradoCcbpoSmn/BxEDkmweqaGPRw9epRz587x6KOPAnDfffcRHR1tSsYMDAyksLCQxMREF2jv+gwdOpTCwkK3HqvpTqZPn05ISAh9+/Zl6tSpZGRkEBgYaHq+evVqMjIyPGih66iurubixYucOXMGgKSkJFpaWkyHArm+7yuIHxaLvKacUhtO0hTGRAaAUc2+EjXpz8SToChmv5Nzdo1GIwsXLmThwoU8+uijhISEkJ2djUbTlisllUqJiooye4jyvYBSqeSll14yzWLn5ubyzTffsHLlSq5evYq/vz99+vRx+UE7niAqKooFCxYgkUhMP3pAu1O+VCoV9fX15j5+13PgwAF69OjBkiVL8PHxoWfPnmRlZXHkyBHADX3fL4mkAXLUu0pQ2zBPJomJiRHGeAsgIpOtO6ehzZlAlrO9noiIiEeQj8rlL7mR7Hx2KoU2JOMLZ3gLULObjw5DwvjR3JvxloiI0FAwakISsopidtu4+khYTo869m/bR2N8KqkRnrZFRETEYcJSeDK+kX3b9tu85FBgTg/0FUUUHYsibYr9x+OJiIh0BeQMnppG7OkiisptX2clOKcHGorXv4921EymRHjaFhEREbsJSyZzbCPv5xWjuYOFPgJ0esD5ItZ/rCBtTrJL0ldERERcjYLRczJRHlhP0dk7+6QwnR56Kt9dSpHfNJ5PFt2eiMjdhmLUYjKDi8nZYP6QJ0sI1OkBxmqKlxein/x7UsM9bYyIiIjNhCXz+1/JeX9FEWo7tkySBgcHr3C6UXcLzdUcPvU99/Wop7rWYL28iIiIx1FE3o+hpIj//da+HXuElZwsIiIieIQ7vBUREREkotMTERERFKLTExERERSi0xMREREUotMTERERFP8PiHmJNcHM+CIAAAAASUVORK5CYII=)\n",
        "\n",
        "Desglosando el cálculo paso a paso:\n",
        "\n",
        "![Resultado01.png](data:image/png;base64,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)\n",
        "\n",
        "Simplificando la expresión:\n",
        "\n",
        "![Resultado02.png](data:image/png;base64,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)\n",
        "\n",
        "Sumando los términos:\n",
        "\n",
        "![Resultado03.png](data:image/png;base64,iVBORw0KGgoAAAANSUhEUgAAAFsAAABBCAYAAAC+e9hkAAAABHNCSVQICAgIfAhkiAAAABl0RVh0U29mdHdhcmUAZ25vbWUtc2NyZWVuc2hvdO8Dvz4AAAAmdEVYdENyZWF0aW9uIFRpbWUAbWFyIDExIGp1biAyMDI0IDExOjQzOjQ2oxCXcgAACF9JREFUeJztnGtIk38bx7/bHqfbTGyuDcupeZqhQgczglIq6b/Md6FQhB0Fw0RBLbWgNOigRZokotW0I4G9iIYKGYWVoR1seSjN09RMppu2lalz3s+L2MjK7d5W99Oz//15573runbt489rv/u3ISMoKIgADSUw/9cN/JugZVMILZtCaNkUQsumEFo2hdCyKYSWTSG0bAqhZVMILZtCaNkUQsumkH+FbJFIhIiICJvzAwICIJFI7O7D4WV7enri9OnTeP/+vc01BgYGkJmZidDQULt6cWjZbDYbBQUFuHDhAsbGxmyuMzU1hWPHjiE3Nxd8Pt/mOg4tOyMjA/fv30dzc/O8MTweD2vWrEF5eTn8/f3njfvw4QMKCwtx4sQJMBgMm/pxWNmbNm1CQEAArl69Om+Mr68vjhw5gg0bNiA8PBwsFstszcePH0Oj0WDXrl029eSQslksFlJTU1FZWQmCmP9Tv76+PuTk5ODu3buka1dWViIxMRFubm5W9+WQsmNiYjA7O4v6+vrfXrurqwsKhQI7d+60OtfhZLNYLOzfvx83btwwu6rtoaKiAjt27MCCBQusynM42atXr4ZAIMC9e/esziX7xtfU1AS1Wo0tW7ZYVd/hZEdFRaG1tRWTk5NW51qzy2hubkZUVJRV9R1StkKhsCnXGtmvX79GeHg4uFwu6RyHkh0QEABPT0+bZVuDQqEAm83G2rVrSef8x9yDYrEYly5dQlFREaqrqwEAISEh2L59O7hcLoRCIWQyGR48eGBf5yQQi8VIS0sDQRDgcrnIz89HX1/fnJiQkBAQBIE3b96QqikQCHD06FEIhUJMT0/j5MmTUCqVyMvLg0ajMZvb19cHrVaLZcuWkX79ZmWLRCIIhULTnRWbzUZhYSEOHjyIjo4OxMXFoaCgAHFxceju7ib1hLbg4eGB0tJS5OTkQKFQoKioCLt378bx48fnxPn4+GBoaAg6nY5U3dHRUaSlpdnUE0EQ6OjogI+PD+kcs2NkdHQUAKBWqwEA7u7uEAgEkEqlAACVSgUGg2H3AY0lUlJS0NnZaRoPk5OT6Ozs/CnO29sb4+Pjf7SX7xkfH7dKttmVbZRs/JNSqVTYt2+f6QQtKCgIBEGgpaXF1n4t4uzsjM2bN6O4uNh07fDhw7+M9fX1xcjIyB/r5Ue0Wi28vLzAYDBI7enNytbpdJienjatcAB49eoVmEwm/P39sXXrVpw5cwY9PT32dz4PwcHB4HA4EIlEyM7OBofDgU6nw/nz5zEzMzMnVigU/tFx9iM6nQ4cDgdubm749OmTxXizsoFvq/vHN4uYmBisXLkSY2NjaG1tNZu/Z88eiMVii41UVVWhvb39p+uLFi0CAAQGBiI5ORkAIJPJkJycjKKiojmxPB6P9Lz+HRgFu7q6/j7ZxnFiRC6XQy6XIzo6GleuXEFKSgqampp+mS+Tycj0PS9TU1MAgEePHpmuvXv3DvHx8SguLsbs7CwAgMlkgslk4vPnzxZrmjty/Z4VK1aYfdz4i7V0WmjEouzu7m5otVoAgIuLC/z9/dHe3g6CINDQ0AA2m42EhIR5ZduLSqUCgDmjTK/Xg8vlzlnJxhsSvV5vsaYliWQxjjGyN0MWZX+/vdq7dy8SExORlJSExsZG06oyB9kxcufOHbS1tf10vaenBxqNBjwez3TN2dkZWq0WX758MV0zGAwAYNUdnb0YeyLjAbAg293dHWfPnkV5eTkaGxvR29uLoaEhvH37FgCwbt066PV6XLt2bd4a9o4RvV6PqqoqREZGQi6Xg8ViYfny5ZDJZD+9yImJCbi6utr1fNZgfC4yowuwIJvFYsHPz890lFhbW4uFCxciMzMTLi4uEAqFyMjIQGNjo51tm6esrAxpaWkoLy8Hg8FAXV0dKisrf4pTq9WUrmxXV1cYDAbTmLWExX32xo0bTT8TBIGbN2/a16ENGAwGnDt3zmJcf3+/1StbKpUiOjoaTk5O4PF4OHXqFOntI4/Hw+DgoGmEWcKhDqKUSiUWL15MOj4kJARJSUnIzc1Famoq1Go1Ll68CCcnJ1L5IpEISqWS9PM5nGwvLy9wOBxS8d7e3vDx8UFYWBiAbzsf43kQGSQSCfr7+0n3Z3E38v9EV1cXmEwm/Pz8frmz+ZG6ujqo1Wq8fPkSwDd5IyMjGB4etpjL5/MhEAjQ1dVFuj+HWtkKhQI6nQ6BgYGk4vV6PZqamsBkMhEZGQmxWIysrCxSM1gikYAgCDx9+pR0fw4l22Aw4MmTJ1i1apVVeYmJiYiNjUVLSwsGBwdJ5YSGhqKtrW3OzZYlHEo2ANTX1yMyMpL0LTQAlJSU4NChQ1Cr1aioqDCdx5jjn3/+sfqrEg4pGyB3S87n87F06VLTz8+ePYOnpydiYmLM5kkkEvj6+qK2ttaq3hxO9sTEBK5fv474+HiLsQUFBbh9+7Zp90J2vxwbG4vq6moMDAxY1ZvDyQaAW7duISIiAkuWLDEbp1Qq0dDQgK9fvwIA1q9fj+HhYdTU1Mybw+VyIZVKcfnyZav7Ynl4eBy3OusvZ3p6GgwGA9HR0Xj48OG8cc+fP0dQUBCkUim2bdsGPp+PrKwsDA0NzZuTkpIClUpl1fcDjTAc9f+NMJlMlJaWoqysDC9evPgtNf38/JCfn4+EhARMTExY39Nv6eIvZHZ2FtnZ2Thw4MCc41lbYTKZSE9PR05Ojk2iAQeWDXw7SCspKUFeXp5VW8FfkZ6ejpqaml9+qk8Wh5zZ3/Px40doNBoEBwejt7fXphphYWGYmZmBXC63qxeHndl/Iw49Rv42aNkUQsumEFo2hdCyKYSWTSG0bAqhZVMILZtCaNkUQsumEFo2hfwXj0X9LFznrokAAAAASUVORK5CYII=)\n",
        "\n",
        "Multiplicando por 6:\n",
        "\n",
        "![Resultado04.png](data:image/png;base64,iVBORw0KGgoAAAANSUhEUgAAADoAAAAuCAYAAAB5/AqlAAAABHNCSVQICAgIfAhkiAAAABl0RVh0U29mdHdhcmUAZ25vbWUtc2NyZWVuc2hvdO8Dvz4AAAAmdEVYdENyZWF0aW9uIFRpbWUAbWFyIDExIGp1biAyMDI0IDExOjQzOjIwHCmVwQAAAx9JREFUaIHtmE1IFFEcwH+1sRPiRrJG4ZS5ErIdavOwESQE7aW1grUooygj2g0ahMKl2tWIpVIPfdLHwT4OFRhFZZDOIexkFHUog2IO4kI1e8iRxOkyS0sdVjIoR8eyYJzfad578977/+a9/5thZlRUVHxjGjDzfwfwr3BE7YYjajccUbvhiNoNR9RuOKJ2wxG1G9NGdJZp63KJ9vM16NeixG6lAfCulmjY4seNgLjAjXKvlda7CsYUBimUhZFi1fgX+ygp1FEenqHl+ksGLYxhuqJCsci8uV5KSosRALwREker0G4niR+IEZchcvgUB1cJfyRiihBEagyhttUT27GBfddVVuy/wOk9fkvDmIoamsZwDvQBLb9i80XKi/1UrwsgANonDd0lUr6kcPIi4yAsC7G2sorIxgAA6qObdH0QCGyOELTwfM23rjbAMAbZIS1ffneDVKIf99seDMC3UMSTS6O8/TJJjfExMgpv+jJ4tOF8Re4jAxqwZA5zLIxjLjqkoRlZsoPZkQqd3scyuAS8yyNIERGlPcmVV1OYoZkOkts6RssFSylfBEZfL4qFac1Fcxr6kIb++edKgcDWI9RWiohDL+h+nkYfq79LJFwvESpxm0fxNYvS2cLVp2OO9ANxfS0hj8LNyx2o4949ygzT350uP9KNIxiJ3Vx9/2uzJ9zMg+MreX2sjninlWknSVktFy7Vol2sJyVbm8/8PZpTUdUM6kiKUuAjuNqP15Uv6s966cdLaHsYn2sSgVvBE0RqDKOejpKSVYQCAStnvfnWRafjUHLkWiDYcIW2TYV0N60h3jmBBPlbW9clEm7Yhae9gdYng4DI1qadpFOt9EwwT81FyyI0pyIYtxtJySqZvn70zDDdI4ePuLYKPzo992TSud/0z6nI55LIE4tlDDwE958kOl+hq6yGvVEQZvupKlKI/7XDqKCYktJyst78iqh3EiSLEuw60UaN4cZTlKWrOcbZ+1OXn0JllERdAJ8rgLRqtF6XZbSxu/2C+WFkI6bNR70jajccUbvhiNoNR9RuOKJ2wxG1G46o3XBE7cZ3SAb8609jB1YAAAAASUVORK5CYII=)\n",
        "\n",
        "Así, hay 2 desarreglos para n = 3 \\."
      ],
      "metadata": {
        "id": "W5KjCF2ZS90o"
      }
    },
    {
      "cell_type": "markdown",
      "source": [
        "# **`Probabilidad`**"
      ],
      "metadata": {
        "id": "9wk3wIstb-er"
      }
    },
    {
      "cell_type": "markdown",
      "source": [
        "La probabilidad de que ningún invitado recoja su propio sombrero para \\( n \\) invitados es:\n",
        "\n",
        "P(ningún sombrero correcto) = ![Probabilidad_Sombrero.png](data:image/png;base64,iVBORw0KGgoAAAANSUhEUgAAACMAAABBCAYAAABb5R0IAAAABHNCSVQICAgIfAhkiAAAABl0RVh0U29mdHdhcmUAZ25vbWUtc2NyZWVuc2hvdO8Dvz4AAAAmdEVYdENyZWF0aW9uIFRpbWUAbWFyIDExIGp1biAyMDI0IDExOjU3OjQ3ZhUZAwAAArJJREFUaIHt1z9IMmEcwPHvmSC1Jf2RzggiLGiI4gkEz9mG5oYapLGhramhoQhCjqDRORqk2UCkosAc0oJoCqQIFKG7KAoaonqHeI8aHl7POuqF57s98qAfnlP8PVokEnnjl+T7acDHFEaWwshSGFkKI0thZCmMrP8T4/P52NraYnFx0TOM383mwcFBnp+fvbI0fjKvr6/c3d1xe3v78xgA27axbdsri7vHZNu2czKBQIC5uTmEEKyvrxONRmlra6O/v59MJsPBwYFrTNMnk0gk2N/fp1qtYpomOzs7mKbJyckJyWTSNaQpzN+TeXx85OzsjOHhYdLpNFdXVwB0d3dzf3/vPaZarVKv1wHY29sjFAqh6zrFYhEATdOIxWIcHR15j9ne3ub8/NxZj4+PY1kW19fXAIyMjNDV1UU+nycej3uLWV1d/fR9EEJwfHzsrA3DoFQq8fLyQiwW8xaj6zqdnZ3Ouqenh1wu56wPDw8JBALMz8+TTqddYzR1o5SkMLJ+Feaf/02np6df+oDR0dGG96pfkyyFkfXtmIWFBTKZDC0tLT+PGRoaIhKJ4PO5f+tvx1iWxcPDQ1O3iG/HfJwG3dbwQK7rOrOzswwMDLC8vMzU1BQA4XCYVCrlDFi2bWNZVlOYhk9mZmYG0zTp7e1laWmJjY0N1tbW8Pv9TE5OOvu+cjINY8rlMu3t7QSDQVZWVnh6egIgFAp9GsAty2r6btUwZnd3FyEENzc3VCoV4P0R9fX1fRrA6/U6tVrNWwy8D+ClUslZT0xMcHFxweXlJYZhAFCpVNjc3PQeI4SgXC47a8MwyOfzRKNRgsEgANPT06RSKW8xra2taJpGoVBwXstms4yNjSGEIJvNAtDR0UE4HEbTNNcYNULIUhhZCiNLYWQpjCyFkaUwshRGlsLI+gPONPSD88/sjgAAAABJRU5ErkJggg==)\n",
        "\n",
        "Esta fórmula da la fracción de permutaciones que son desarreglos."
      ],
      "metadata": {
        "id": "oH7vvgqgcblG"
      }
    },
    {
      "cell_type": "markdown",
      "source": [
        "## **`Desglose De La Fórmula`**"
      ],
      "metadata": {
        "id": "Hup73pBGdFTI"
      }
    },
    {
      "cell_type": "markdown",
      "source": [
        "- \\( !n \\): Número de desarreglos.\n",
        "- \\( n! \\): Total de todas las posibles permutaciones de \\( n \\) elementos."
      ],
      "metadata": {
        "id": "DNRaWBpXdGq9"
      }
    },
    {
      "cell_type": "markdown",
      "source": [
        "## **`Ejemplo: Para n = 3:`**"
      ],
      "metadata": {
        "id": "5d7zPTSjcJX7"
      }
    },
    {
      "cell_type": "markdown",
      "source": [
        "\\[ !3 = 2 \\] (como calculamos anteriormente)\n",
        "\n",
        "\\[ 3! = 6 \\] (total de permutaciones)\n",
        "\n",
        "Entonces la probabilidad es:\n",
        "\n",
        " ![Resultado2.00.png](data:image/png;base64,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)\n",
        "\n",
        "\n",
        "![Resultado2.01.png](data:image/png;base64,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)\n"
      ],
      "metadata": {
        "id": "0lmHXp06cF06"
      }
    },
    {
      "cell_type": "markdown",
      "source": [
        "# **`Código`**"
      ],
      "metadata": {
        "id": "PaXe-QHWfIbJ"
      }
    },
    {
      "cell_type": "code",
      "source": [
        "# Importación de bibliotecas\n",
        "import math\n",
        "\n",
        "# Función para calcular desarreglos\n",
        "def n_desarreglos(n):\n",
        "    return int(math.factorial(n) * sum((-1)**i / math.factorial(i) for i in range(n + 1)))\n",
        "\n",
        "\n",
        "# Función para calcular probabilidad\n",
        "def p_desarreglo(n, desarreglos):\n",
        "    total_permutaciones = math.factorial(n)\n",
        "    return desarreglos / total_permutaciones\n",
        "\n",
        "# Solicitar al usuario el valor de n\n",
        "n = int(input(\"Ingrese el número de invitados (n): \"))\n",
        "\n",
        "# Calcular número de desarreglos y su probabilidad\n",
        "desarreglos = n_desarreglos(n)\n",
        "probabilidad = p_desarreglo(n, desarreglos)\n",
        "\n",
        "# --- Mostrar resultados ---\n",
        "print(f\"\\nPara n = {n}:\")\n",
        "print(f\"Número de desarreglos: {desarreglos}\")\n",
        "print(f\"Probabilidad de que ningún sombrero sea correcto: {probabilidad:.6f}\")\n"
      ],
      "metadata": {
        "colab": {
          "base_uri": "https://localhost:8080/"
        },
        "id": "Etdhp6QafNvr",
        "outputId": "153c127c-8855-4c30-ca61-e6da2f6bd0cd"
      },
      "execution_count": 10,
      "outputs": [
        {
          "output_type": "stream",
          "name": "stdout",
          "text": [
            "Ingrese el número de invitados (n): 3\n",
            "\n",
            "Para n = 3:\n",
            "Número de desarreglos: 2\n",
            "Probabilidad de que ningún sombrero sea correcto: 0.333333\n"
          ]
        }
      ]
    },
    {
      "cell_type": "markdown",
      "source": [
        "La tendencia a alrededor del 37% (o más precisamente, ![Resultado3.00.png](data:image/png;base64,iVBORw0KGgoAAAANSUhEUgAAACIAAAA4CAYAAACYCio/AAAABHNCSVQICAgIfAhkiAAAABl0RVh0U29mdHdhcmUAZ25vbWUtc2NyZWVuc2hvdO8Dvz4AAAAmdEVYdENyZWF0aW9uIFRpbWUAbWFyIDExIGp1biAyMDI0IDEyOjI5OjQwm2Y9HgAAAZxJREFUWIXt18ErBFEAgPFvkbmYTc2eyGFTSzloykpZF5uTy3DZFOXigq0tkxbJTYiToqyLI0r8AW5O9rCNUutiXazUuJjaosQJ9U523sak951nXr/evHnzJhSLxd4JQHV/DfhMQcQURExBxBRETEHE/gmkXsNoj2NltjnZsNAlhmrwf6tOMrOKZbjQlSBavpBgSEE8zrfSnGOQylkkpBj/Zo3UMAURqx1EYtlDgGYk5P8UrxGf3mTKjNDSESWCS+mmjHuZw87lefk9SG0LzKNREDEFEat6GyoUCj++1jTNH1+rXl8xBRFTELHAQCSPM2D0TDA71ov+9oKmg7O7xP5VtYcAyRlpHd7kYG2A2x0be97GPnklMdSJ5mMs/zNiWGTtJK9nkxw9NBE1BxkZjZDfK1Z9KJKCaH0J4s0epbYU2bln3Psil+tpLu78MCQgTeEwWsXhcHmR04rfUb7zvUaerouU0NC//rw1osNZVsY6fY0n8dHT6R5fYKa/EffRgwZwnVNyxw7e70JqW2A2NAURUxAxBRFTEDEFEfsAyIhfDumYpcAAAAAASUVORK5CYII=), donde ![Resultado3.01.png](data:image/png;base64,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)\n",
        "\n",
        "Es un resultado interesante que se deriva de la teoría detrás del problema del banquete.\n",
        "\n",
        "Cuando el número de invitados \\( n \\) se hace muy grande, el número de desarreglos \\( !n \\) se aproxima a ![Resultado3.02.png](data:image/png;base64,iVBORw0KGgoAAAANSUhEUgAAACEAAAA4CAYAAABzPZE8AAAABHNCSVQICAgIfAhkiAAAABl0RVh0U29mdHdhcmUAZ25vbWUtc2NyZWVuc2hvdO8Dvz4AAAAmdEVYdENyZWF0aW9uIFRpbWUAbWFyIDExIGp1biAyMDI0IDEyOjMwOjAwv2KeIAAAAo5JREFUWIXtlz9oE1Ecxz81JaelkUKrhZyFXoYSFBoiJDrEKVPUwUWKQre0SylI6VDj0OJQRYoIWkW7tUOtiwiSDpJFbpBGCBEp6ZI4mCD0hYRcQK5Y62CuHUSaa6LJ8D7bcT++vw/v8f51DA0N7dFijrVaAKTEAVLCQkpYSAkLKWEhJSz+kUQvkfm3vH89Q9jVMonjqKqKa8BDn6NlEgJRMsEQiO8tkwBRrkKlQqWO2k674crZUWbGL+E9lWd5QcdzPYKKguYxid+9w8qmCZiIYgWzKhA/Ds+0ORK9RG56SN9bI9d/jdlpHxsPponF5ogbIUauDqPUKrdLAkoCsdtsCcdJzGScRI8XrTvHq4VFkmVAOYN6GoyqwKyVVosVCmWDnTpi7Uns5lh/k8R53odWTbOxWWs5GCLYXyCp5w5qtwtkC/l9qeZJAKAQ9Hvhc5p0rYMvEsb9VSexpRG+4kMBzI8PmX6aqSvRvoQyTPCck0wqiQHg0AgF3BT0BNmLI4T7KpgoBCZfsPokik85LPAoEt0eVCWDrud/f+8W2PiQgeFRZi9kWHqZA5z09XtQB1RcdWxWHfLxU0NKWLSFRN1nRyqVaqiR3+//6z+5OiykhIWUsGgLCdt3zD/o0oiMj3F50Im5o6CU49yfXyf/3yS6fEw8e0x4K8bYLZ2iQyO6NEXAtU7eqD+moenwjc8S1dIsP0+y4/YSujFG8FuCpA0BaGQkHF5CIQ2zJAhOzuA1BLlPa9xeTVO0GXV0iU4XrhNQeLdI7FH6yDHQyHSYWTIZA6fLuf/WoDdAdG6CcI+9qMYOMHeYqdgIWiWP+KmgmFkSKyskvtRz0W+WRJNoi81KSlhICQspYSElLNpC4he/rM32FfTjDwAAAABJRU5ErkJggg==).\n",
        "\n",
        "Esto significa que, en un gran banquete, hay aproximadamente ![Resultado3.02.png](data:image/png;base64,iVBORw0KGgoAAAANSUhEUgAAACEAAAA4CAYAAABzPZE8AAAABHNCSVQICAgIfAhkiAAAABl0RVh0U29mdHdhcmUAZ25vbWUtc2NyZWVuc2hvdO8Dvz4AAAAmdEVYdENyZWF0aW9uIFRpbWUAbWFyIDExIGp1biAyMDI0IDEyOjMwOjAwv2KeIAAAAo5JREFUWIXtlz9oE1Ecxz81JaelkUKrhZyFXoYSFBoiJDrEKVPUwUWKQre0SylI6VDj0OJQRYoIWkW7tUOtiwiSDpJFbpBGCBEp6ZI4mCD0hYRcQK5Y62CuHUSaa6LJ8D7bcT++vw/v8f51DA0N7dFijrVaAKTEAVLCQkpYSAkLKWEhJSz+kUQvkfm3vH89Q9jVMonjqKqKa8BDn6NlEgJRMsEQiO8tkwBRrkKlQqWO2k674crZUWbGL+E9lWd5QcdzPYKKguYxid+9w8qmCZiIYgWzKhA/Ds+0ORK9RG56SN9bI9d/jdlpHxsPponF5ogbIUauDqPUKrdLAkoCsdtsCcdJzGScRI8XrTvHq4VFkmVAOYN6GoyqwKyVVosVCmWDnTpi7Uns5lh/k8R53odWTbOxWWs5GCLYXyCp5w5qtwtkC/l9qeZJAKAQ9Hvhc5p0rYMvEsb9VSexpRG+4kMBzI8PmX6aqSvRvoQyTPCck0wqiQHg0AgF3BT0BNmLI4T7KpgoBCZfsPokik85LPAoEt0eVCWDrud/f+8W2PiQgeFRZi9kWHqZA5z09XtQB1RcdWxWHfLxU0NKWLSFRN1nRyqVaqiR3+//6z+5OiykhIWUsGgLCdt3zD/o0oiMj3F50Im5o6CU49yfXyf/3yS6fEw8e0x4K8bYLZ2iQyO6NEXAtU7eqD+moenwjc8S1dIsP0+y4/YSujFG8FuCpA0BaGQkHF5CIQ2zJAhOzuA1BLlPa9xeTVO0GXV0iU4XrhNQeLdI7FH6yDHQyHSYWTIZA6fLuf/WoDdAdG6CcI+9qMYOMHeYqdgIWiWP+KmgmFkSKyskvtRz0W+WRJNoi81KSlhICQspYSElLNpC4he/rM32FfTjDwAAAABJRU5ErkJggg==) desarreglos posibles.\n",
        "\n",
        "Por otro lado, el número total de permutaciones posibles de los sombreros es \\( n! \\), ya que cada invitado puede tomar cualquier sombrero.\n",
        "\n",
        "Por lo tanto, la probabilidad de que ningún invitado reciba su propio sombrero, que es igual al número de desarreglos dividido por el número total de permutaciones, se aproxima a ![Resultado3.00.png](data:image/png;base64,iVBORw0KGgoAAAANSUhEUgAAACIAAAA4CAYAAACYCio/AAAABHNCSVQICAgIfAhkiAAAABl0RVh0U29mdHdhcmUAZ25vbWUtc2NyZWVuc2hvdO8Dvz4AAAAmdEVYdENyZWF0aW9uIFRpbWUAbWFyIDExIGp1biAyMDI0IDEyOjI5OjQwm2Y9HgAAAZxJREFUWIXt18ErBFEAgPFvkbmYTc2eyGFTSzloykpZF5uTy3DZFOXigq0tkxbJTYiToqyLI0r8AW5O9rCNUutiXazUuJjaosQJ9U523sak951nXr/evHnzJhSLxd4JQHV/DfhMQcQURExBxBRETEHE/gmkXsNoj2NltjnZsNAlhmrwf6tOMrOKZbjQlSBavpBgSEE8zrfSnGOQylkkpBj/Zo3UMAURqx1EYtlDgGYk5P8UrxGf3mTKjNDSESWCS+mmjHuZw87lefk9SG0LzKNREDEFEat6GyoUCj++1jTNH1+rXl8xBRFTELHAQCSPM2D0TDA71ov+9oKmg7O7xP5VtYcAyRlpHd7kYG2A2x0be97GPnklMdSJ5mMs/zNiWGTtJK9nkxw9NBE1BxkZjZDfK1Z9KJKCaH0J4s0epbYU2bln3Psil+tpLu78MCQgTeEwWsXhcHmR04rfUb7zvUaerouU0NC//rw1osNZVsY6fY0n8dHT6R5fYKa/EffRgwZwnVNyxw7e70JqW2A2NAURUxAxBRFTEDEFEfsAyIhfDumYpcAAAAAASUVORK5CYII=).\n",
        "\n",
        "Este resultado muestra que, en promedio, alrededor del 37% de los invitados no recibirán su propio sombrero en un gran banquete.\n"
      ],
      "metadata": {
        "id": "9TdF9iGXjCuB"
      }
    },
    {
      "cell_type": "markdown",
      "source": [
        "# **`Coloreado De Grafos`**"
      ],
      "metadata": {
        "id": "zYFNz3EBlyfM"
      }
    },
    {
      "cell_type": "markdown",
      "source": [
        "## **`Teoria`**"
      ],
      "metadata": {
        "id": "2ZGnNjdw9kQt"
      }
    },
    {
      "cell_type": "markdown",
      "source": [
        "El **coloreado de grafos** es un concepto fundamental en teoría de grafos que involucra asignar colores a los nodos de un grafo de manera que ningún par de nodos adyacentes tenga el mismo color. En el contexto del problema del banquete, podemos utilizar el coloreado de grafos para encontrar el número mínimo de colores necesarios para colorear los nodos de un grafo bipartito de manera que ningún par de nodos adyacentes (invitado y sombrero) tenga el mismo color."
      ],
      "metadata": {
        "id": "WlKK4ome-EvM"
      }
    },
    {
      "cell_type": "markdown",
      "source": [
        "## **`Creación`**"
      ],
      "metadata": {
        "id": "Ir-6-Sux90a-"
      }
    },
    {
      "cell_type": "markdown",
      "source": [
        "Primero, creamos un **grafo bipartito** donde un conjunto de nodos representa a los invitados y otro conjunto representa a los sombreros. Cada arista entre un invitado y un sombrero indica una posible asignación de ese sombrero al invitado."
      ],
      "metadata": {
        "id": "mvYfhhwy-T5F"
      }
    },
    {
      "cell_type": "markdown",
      "source": [
        "## **`Coloreado`**"
      ],
      "metadata": {
        "id": "Y4he7gBn93Sl"
      }
    },
    {
      "cell_type": "markdown",
      "source": [
        "Luego, utilizamos un algoritmo de coloreado de grafos para encontrar una asignación de colores a los nodos de manera que ningún par de nodos adyacentes tenga el mismo color. En este caso, utilizamos el algoritmo greedy, que asigna colores a los nodos en un orden específico, utilizando el primer color disponible que no se haya utilizado en los nodos adyacentes."
      ],
      "metadata": {
        "id": "t28puWPh-cOw"
      }
    },
    {
      "cell_type": "markdown",
      "source": [
        "## **`Interpretación`**"
      ],
      "metadata": {
        "id": "oYwDmeOO97c7"
      }
    },
    {
      "cell_type": "markdown",
      "source": [
        "\n",
        "#### 3. Interpretación de los Resultados\n",
        "\n",
        "Una vez que hemos coloreado el grafo, podemos interpretar los resultados. Cada color representa un grupo de nodos que no están conectados directamente entre sí en el grafo original. En el contexto del problema del banquete, esto significa que los invitados que tienen el mismo color no han recibido sus propios sombreros."
      ],
      "metadata": {
        "id": "nNpNz3Bm-uaD"
      }
    },
    {
      "cell_type": "markdown",
      "source": [
        "## **`Algoritmo`**"
      ],
      "metadata": {
        "id": "HDesk6jJ9_kV"
      }
    },
    {
      "cell_type": "code",
      "source": [
        "# Importación de bibliotecas\n",
        "import networkx as nx\n",
        "import matplotlib.pyplot as plt\n",
        "\n",
        "# Contruir grafo bipartito\n",
        "def grafo(n):\n",
        "    G = nx.Graph()\n",
        "\n",
        "    # Crear nodos\n",
        "    invitados = [f'I{i}' for i in range(1, n+1)]\n",
        "    sombreros = [f'S{i}' for i in range(1, n+1)]\n",
        "    G.add_nodes_from(invitados, bipartite=0)\n",
        "    G.add_nodes_from(sombreros, bipartite=1)\n",
        "\n",
        "    # Crear aristas (cada invitado puede tomar cualquier sombrero excepto el suyo)\n",
        "    edges = [(f'I{i}', f'S{j}') for i in range(1, n+1) for j in range(1, n+1) if i != j]\n",
        "    G.add_edges_from(edges)\n",
        "\n",
        "    return G, invitados, sombreros\n",
        "\n",
        "def colorear_grafo(G):\n",
        "    return nx.coloring.greedy_color(G, strategy='largest_first')\n",
        "\n",
        "# Solicitar al usuario el valor de n\n",
        "n = int(input(\"Ingrese el número de invitados (n): \"))\n",
        "\n",
        "print(\"\\n\")\n",
        "\n",
        "# Construir el grafo\n",
        "G, invitados, sombreros = grafo(n)\n",
        "\n",
        "# Posición para visualización\n",
        "pos = {**{f'I{i}': (0, i) for i in range(1, n+1)}, **{f'S{i}': (1, i) for i in range(1, n+1)}}\n",
        "\n",
        "plt.figure(figsize=(8, 6))\n",
        "nx.draw(G, pos, with_labels=True, node_color=['skyblue']*n + ['lightgreen']*n, node_size=1000)\n",
        "plt.title('Grafo Bipartito: Invitados y Sombreros')\n",
        "plt.show()\n",
        "\n",
        "# Colorear el grafo\n",
        "colores = colorear_grafo(G)\n",
        "\n",
        "# Mostrar resultados\n",
        "print(\"\\nColores asignados:\")\n",
        "for nodo, color in colores.items():\n",
        "    print(f\"{nodo}: Color {color}\")\n"
      ],
      "metadata": {
        "colab": {
          "base_uri": "https://localhost:8080/",
          "height": 850
        },
        "id": "Nof4nIJf_KQ2",
        "outputId": "f79b1f67-a6dd-45e8-da07-b8b50f55b567"
      },
      "execution_count": 12,
      "outputs": [
        {
          "output_type": "stream",
          "name": "stdout",
          "text": [
            "Ingrese el número de invitados (n): 3\n",
            "\n",
            "\n"
          ]
        },
        {
          "output_type": "display_data",
          "data": {
            "text/plain": [
              "<Figure size 800x600 with 1 Axes>"
            ],
            "image/png": "[encoded data removed]"
          },
          "metadata": {}
        },
        {
          "output_type": "stream",
          "name": "stdout",
          "text": [
            "\n",
            "Colores asignados:\n",
            "I1: Color 0\n",
            "I2: Color 0\n",
            "I3: Color 0\n",
            "S1: Color 1\n",
            "S2: Color 1\n",
            "S3: Color 1\n"
          ]
        }
      ]
    }
  ]
}